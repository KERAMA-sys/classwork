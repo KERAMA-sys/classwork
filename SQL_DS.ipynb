{
  "nbformat": 4,
  "nbformat_minor": 0,
  "metadata": {
    "colab": {
      "provenance": [],
      "authorship_tag": "ABX9TyMiL5aH6uxWAn7fSX2vEIkF",
      "include_colab_link": true
    },
    "kernelspec": {
      "name": "python3",
      "display_name": "Python 3"
    },
    "language_info": {
      "name": "python"
    }
  },
  "cells": [
    {
      "cell_type": "markdown",
      "metadata": {
        "id": "view-in-github",
        "colab_type": "text"
      },
      "source": [
        "<a href=\"https://colab.research.google.com/github/KERAMA-sys/classwork/blob/master/SQL_DS.ipynb\" target=\"_parent\"><img src=\"https://colab.research.google.com/assets/colab-badge.svg\" alt=\"Open In Colab\"/></a>"
      ]
    },
    {
      "cell_type": "code",
      "execution_count": 50,
      "metadata": {
        "id": "EfWr_Zl30q0e",
        "colab": {
          "base_uri": "https://localhost:8080/"
        },
        "outputId": "2fc2199e-92c6-4a2d-c8aa-8b1051be0857"
      },
      "outputs": [
        {
          "output_type": "stream",
          "name": "stdout",
          "text": [
            "The sql extension is already loaded. To reload it, use:\n",
            "  %reload_ext sql\n"
          ]
        }
      ],
      "source": [
        "%load_ext sql\n"
      ]
    },
    {
      "cell_type": "code",
      "source": [
        "%sql sqlite://"
      ],
      "metadata": {
        "colab": {
          "base_uri": "https://localhost:8080/",
          "height": 35
        },
        "id": "cvfbVEY705hU",
        "outputId": "c9ea9301-bf61-47d7-c1a6-64bb770f2996"
      },
      "execution_count": 51,
      "outputs": [
        {
          "output_type": "execute_result",
          "data": {
            "text/plain": [
              "'Connected: @None'"
            ],
            "application/vnd.google.colaboratory.intrinsic+json": {
              "type": "string"
            }
          },
          "metadata": {},
          "execution_count": 51
        }
      ]
    },
    {
      "cell_type": "code",
      "source": [
        "%%sql\n",
        "CREATE TABLE IF NOT EXISTS Citizens(\n",
        "  NationalID int,\n",
        "  FirstName varchar(20),\n",
        "  LastName varchar(20),\n",
        "  Address varchar(20)\n",
        "\n",
        ");\n",
        "SELECT * from Citizens;\n"
      ],
      "metadata": {
        "colab": {
          "base_uri": "https://localhost:8080/",
          "height": 92
        },
        "id": "SYM_IH601DCd",
        "outputId": "4a267df4-a4c6-456e-f27e-e36e426713a0"
      },
      "execution_count": 4,
      "outputs": [
        {
          "output_type": "stream",
          "name": "stdout",
          "text": [
            " * sqlite://\n",
            "Done.\n",
            "Done.\n"
          ]
        },
        {
          "output_type": "execute_result",
          "data": {
            "text/plain": [
              "[]"
            ],
            "text/html": [
              "<table>\n",
              "    <thead>\n",
              "        <tr>\n",
              "            <th>NationalID</th>\n",
              "            <th>FirstName</th>\n",
              "            <th>LastName</th>\n",
              "            <th>Address</th>\n",
              "        </tr>\n",
              "    </thead>\n",
              "    <tbody>\n",
              "    </tbody>\n",
              "</table>"
            ]
          },
          "metadata": {},
          "execution_count": 4
        }
      ]
    },
    {
      "cell_type": "code",
      "source": [
        "%%sql\n",
        "CREATE TABLE IF NOT EXISTS books(\n",
        "  ReleaseDate date,\n",
        "  Author Text,\n",
        "  Book_title varchar(50),\n",
        "  catergory varchar(20),\n",
        "  Rating varchar(100)\n",
        ");\n",
        "SELECT * from books"
      ],
      "metadata": {
        "colab": {
          "base_uri": "https://localhost:8080/",
          "height": 92
        },
        "id": "wZFrqUrh2khN",
        "outputId": "1469c0b9-1381-4d95-f6c6-30611b154359"
      },
      "execution_count": null,
      "outputs": [
        {
          "output_type": "stream",
          "name": "stdout",
          "text": [
            " * sqlite://\n",
            "Done.\n",
            "Done.\n"
          ]
        },
        {
          "output_type": "execute_result",
          "data": {
            "text/plain": [
              "[]"
            ],
            "text/html": [
              "<table>\n",
              "    <thead>\n",
              "        <tr>\n",
              "            <th>ReleaseDate</th>\n",
              "            <th>Author</th>\n",
              "            <th>Book_title</th>\n",
              "            <th>catergory</th>\n",
              "            <th>Rating</th>\n",
              "        </tr>\n",
              "    </thead>\n",
              "    <tbody>\n",
              "    </tbody>\n",
              "</table>"
            ]
          },
          "metadata": {},
          "execution_count": 7
        }
      ]
    },
    {
      "cell_type": "code",
      "source": [
        "%%sql \n",
        "CREATE TABLE IF NOT EXISTS Customer(\n",
        "  Cust_ID int,\n",
        "  lastName varchar(25),\n",
        "  firstname varchar(20),\n",
        "  Pay float\n",
        ");\n",
        "SELECT * from Customer"
      ],
      "metadata": {
        "colab": {
          "base_uri": "https://localhost:8080/",
          "height": 92
        },
        "id": "L9tZXfCe37Uu",
        "outputId": "a3f1ac24-091b-484f-a9f6-3ec06ced7117"
      },
      "execution_count": null,
      "outputs": [
        {
          "output_type": "stream",
          "name": "stdout",
          "text": [
            " * sqlite://\n",
            "Done.\n",
            "Done.\n"
          ]
        },
        {
          "output_type": "execute_result",
          "data": {
            "text/plain": [
              "[]"
            ],
            "text/html": [
              "<table>\n",
              "    <thead>\n",
              "        <tr>\n",
              "            <th>Cust_ID</th>\n",
              "            <th>lastName</th>\n",
              "            <th>firstname</th>\n",
              "            <th>Pay</th>\n",
              "        </tr>\n",
              "    </thead>\n",
              "    <tbody>\n",
              "    </tbody>\n",
              "</table>"
            ]
          },
          "metadata": {},
          "execution_count": 8
        }
      ]
    },
    {
      "cell_type": "code",
      "source": [
        "%%sql\n",
        "CREATE TABLE IF NOT EXISTS Employees(\n",
        "  Employee_num int,\n",
        "  Employee_Name varchar(50),\n",
        "  Department varchar(20),\n",
        "  Salary float\n",
        ");\n",
        "SELECT * from Employees"
      ],
      "metadata": {
        "colab": {
          "base_uri": "https://localhost:8080/",
          "height": 92
        },
        "id": "yHhXeD7242No",
        "outputId": "c9845805-8d7c-49d4-e6dc-55916a498746"
      },
      "execution_count": null,
      "outputs": [
        {
          "output_type": "stream",
          "name": "stdout",
          "text": [
            " * sqlite://\n",
            "Done.\n",
            "Done.\n"
          ]
        },
        {
          "output_type": "execute_result",
          "data": {
            "text/plain": [
              "[]"
            ],
            "text/html": [
              "<table>\n",
              "    <thead>\n",
              "        <tr>\n",
              "            <th>Employee_num</th>\n",
              "            <th>Employee_Name</th>\n",
              "            <th>Department</th>\n",
              "            <th>Salary</th>\n",
              "        </tr>\n",
              "    </thead>\n",
              "    <tbody>\n",
              "    </tbody>\n",
              "</table>"
            ]
          },
          "metadata": {},
          "execution_count": 9
        }
      ]
    },
    {
      "cell_type": "code",
      "source": [
        "#DEFAULT TYPES"
      ],
      "metadata": {
        "id": "0haPuFhn6J-s"
      },
      "execution_count": null,
      "outputs": []
    },
    {
      "cell_type": "code",
      "source": [
        "%%sql\n",
        "CREATE TABLE IF NOT EXISTS students(\n",
        "  id varchar(20),\n",
        "  StudentName varchar(20),\n",
        "  Age int DEFAULT 'Unknown'\n",
        ");\n",
        "SELECT * from students"
      ],
      "metadata": {
        "colab": {
          "base_uri": "https://localhost:8080/",
          "height": 92
        },
        "id": "cYa_YNVz7-e3",
        "outputId": "750f3846-ba2d-41e0-abaf-1d55d9a507e1"
      },
      "execution_count": 7,
      "outputs": [
        {
          "output_type": "stream",
          "name": "stdout",
          "text": [
            " * sqlite://\n",
            "Done.\n",
            "Done.\n"
          ]
        },
        {
          "output_type": "execute_result",
          "data": {
            "text/plain": [
              "[]"
            ],
            "text/html": [
              "<table>\n",
              "    <thead>\n",
              "        <tr>\n",
              "            <th>id</th>\n",
              "            <th>StudentName</th>\n",
              "            <th>Age</th>\n",
              "        </tr>\n",
              "    </thead>\n",
              "    <tbody>\n",
              "    </tbody>\n",
              "</table>"
            ]
          },
          "metadata": {},
          "execution_count": 7
        }
      ]
    },
    {
      "cell_type": "code",
      "source": [
        "%%sql\n",
        "CREATE TABLE IF NOT EXISTS ALCOHOL(\n",
        "  ID int,\n",
        "  ParticipantName text,\n",
        "  Age int DEFAULT 18,\n",
        "  Opinion text\n",
        ");\n",
        "SELECT * from ALCOHOL"
      ],
      "metadata": {
        "colab": {
          "base_uri": "https://localhost:8080/",
          "height": 92
        },
        "id": "GZDg5k1b37lE",
        "outputId": "3e3152cd-1220-4564-af72-7e2bce972c56"
      },
      "execution_count": null,
      "outputs": [
        {
          "output_type": "stream",
          "name": "stdout",
          "text": [
            " * sqlite://\n",
            "Done.\n",
            "Done.\n"
          ]
        },
        {
          "output_type": "execute_result",
          "data": {
            "text/plain": [
              "[]"
            ],
            "text/html": [
              "<table>\n",
              "    <thead>\n",
              "        <tr>\n",
              "            <th>ID</th>\n",
              "            <th>ParticipantName</th>\n",
              "            <th>Age</th>\n",
              "            <th>Opinion</th>\n",
              "        </tr>\n",
              "    </thead>\n",
              "    <tbody>\n",
              "    </tbody>\n",
              "</table>"
            ]
          },
          "metadata": {},
          "execution_count": 10
        }
      ]
    },
    {
      "cell_type": "code",
      "source": [
        "%%sql\n",
        "CREATE TABLE IF NOT EXISTS Restaurants(\n",
        "  name text,\n",
        "  Description text,\n",
        "  Address str DEFAULT 'Unknown',\n",
        "  User_id int,\n",
        "  Last_orders_at date\n",
        "\n",
        ");\n",
        "SELECT * from Restaurants"
      ],
      "metadata": {
        "colab": {
          "base_uri": "https://localhost:8080/",
          "height": 92
        },
        "id": "45jc7oso85hs",
        "outputId": "ec0e78a8-db0d-42a9-8362-98c8ccc46ece"
      },
      "execution_count": 5,
      "outputs": [
        {
          "output_type": "stream",
          "name": "stdout",
          "text": [
            " * sqlite://\n",
            "Done.\n",
            "Done.\n"
          ]
        },
        {
          "output_type": "execute_result",
          "data": {
            "text/plain": [
              "[]"
            ],
            "text/html": [
              "<table>\n",
              "    <thead>\n",
              "        <tr>\n",
              "            <th>name</th>\n",
              "            <th>Description</th>\n",
              "            <th>Address</th>\n",
              "            <th>User_id</th>\n",
              "            <th>Last_orders_at</th>\n",
              "        </tr>\n",
              "    </thead>\n",
              "    <tbody>\n",
              "    </tbody>\n",
              "</table>"
            ]
          },
          "metadata": {},
          "execution_count": 5
        }
      ]
    },
    {
      "cell_type": "code",
      "source": [
        "#altering SQL table\n",
        "%%sql\n",
        "ALTER TABLE students ADD Gender;\n",
        "SELECT * from students;"
      ],
      "metadata": {
        "colab": {
          "base_uri": "https://localhost:8080/",
          "height": 92
        },
        "id": "azy7iFR5_Mv-",
        "outputId": "56371773-24c5-463c-c02c-10a65c025e03"
      },
      "execution_count": 9,
      "outputs": [
        {
          "output_type": "stream",
          "name": "stdout",
          "text": [
            " * sqlite://\n",
            "Done.\n",
            "Done.\n"
          ]
        },
        {
          "output_type": "execute_result",
          "data": {
            "text/plain": [
              "[]"
            ],
            "text/html": [
              "<table>\n",
              "    <thead>\n",
              "        <tr>\n",
              "            <th>id</th>\n",
              "            <th>StudentName</th>\n",
              "            <th>Age</th>\n",
              "            <th>Gender</th>\n",
              "        </tr>\n",
              "    </thead>\n",
              "    <tbody>\n",
              "    </tbody>\n",
              "</table>"
            ]
          },
          "metadata": {},
          "execution_count": 9
        }
      ]
    },
    {
      "cell_type": "code",
      "source": [
        "%%sql\n",
        "ALTER TABLE students DROP COLUMN Gender;\n",
        "SELECT *from students;"
      ],
      "metadata": {
        "colab": {
          "base_uri": "https://localhost:8080/"
        },
        "id": "WNgBdDPtAp6y",
        "outputId": "ecd3a356-9123-4bc5-ee57-ec1ac4d92186"
      },
      "execution_count": 18,
      "outputs": [
        {
          "output_type": "stream",
          "name": "stdout",
          "text": [
            " * sqlite://\n",
            "(sqlite3.OperationalError) near \"DROP\": syntax error\n",
            "[SQL: ALTER TABLE students DROP COLUMN Gender;]\n",
            "(Background on this error at: https://sqlalche.me/e/14/e3q8)\n"
          ]
        }
      ]
    },
    {
      "cell_type": "code",
      "source": [
        "%%sql\n",
        "ALTER TABLE students RENAME TO School;\n",
        "SELECT * from School;"
      ],
      "metadata": {
        "colab": {
          "base_uri": "https://localhost:8080/",
          "height": 92
        },
        "id": "Myo_ZvxCBwmr",
        "outputId": "14c3c48f-996a-4224-8e50-454aa4644d10"
      },
      "execution_count": 14,
      "outputs": [
        {
          "output_type": "stream",
          "name": "stdout",
          "text": [
            " * sqlite://\n",
            "Done.\n",
            "Done.\n"
          ]
        },
        {
          "output_type": "execute_result",
          "data": {
            "text/plain": [
              "[]"
            ],
            "text/html": [
              "<table>\n",
              "    <thead>\n",
              "        <tr>\n",
              "            <th>id</th>\n",
              "            <th>StudentName</th>\n",
              "            <th>Age</th>\n",
              "            <th>Gender</th>\n",
              "        </tr>\n",
              "    </thead>\n",
              "    <tbody>\n",
              "    </tbody>\n",
              "</table>"
            ]
          },
          "metadata": {},
          "execution_count": 14
        }
      ]
    },
    {
      "cell_type": "code",
      "source": [
        "%%sql\n",
        "CREATE TABLE IF NOT EXISTS TeamMembers(\n",
        "  ID int,\n",
        "  name text,\n",
        "  Age int DEFAULT 21,\n",
        "  Gender varchar(20)\n",
        ");\n",
        "\n",
        "select * from TeamMembers;"
      ],
      "metadata": {
        "colab": {
          "base_uri": "https://localhost:8080/",
          "height": 92
        },
        "id": "-GvuX3r7DkBN",
        "outputId": "5f3ccd39-3d2b-4dfb-bf11-845fc803f511"
      },
      "execution_count": 19,
      "outputs": [
        {
          "output_type": "stream",
          "name": "stdout",
          "text": [
            " * sqlite://\n",
            "Done.\n",
            "Done.\n"
          ]
        },
        {
          "output_type": "execute_result",
          "data": {
            "text/plain": [
              "[]"
            ],
            "text/html": [
              "<table>\n",
              "    <thead>\n",
              "        <tr>\n",
              "            <th>ID</th>\n",
              "            <th>name</th>\n",
              "            <th>Age</th>\n",
              "            <th>Gender</th>\n",
              "        </tr>\n",
              "    </thead>\n",
              "    <tbody>\n",
              "    </tbody>\n",
              "</table>"
            ]
          },
          "metadata": {},
          "execution_count": 19
        }
      ]
    },
    {
      "cell_type": "code",
      "source": [
        "%%sql\n",
        "ALTER TABLE TeamMembers ADD D_O_B;\n",
        "\n",
        "select * from TeamMembers;"
      ],
      "metadata": {
        "colab": {
          "base_uri": "https://localhost:8080/",
          "height": 92
        },
        "id": "ceSKjFxEEnQv",
        "outputId": "28ae4a10-63c8-44bc-a973-cd22405e1cfc"
      },
      "execution_count": 23,
      "outputs": [
        {
          "output_type": "stream",
          "name": "stdout",
          "text": [
            " * sqlite://\n",
            "Done.\n",
            "Done.\n"
          ]
        },
        {
          "output_type": "execute_result",
          "data": {
            "text/plain": [
              "[]"
            ],
            "text/html": [
              "<table>\n",
              "    <thead>\n",
              "        <tr>\n",
              "            <th>ID</th>\n",
              "            <th>name</th>\n",
              "            <th>Age</th>\n",
              "            <th>Gender</th>\n",
              "            <th>DOB</th>\n",
              "            <th>D_O_B</th>\n",
              "        </tr>\n",
              "    </thead>\n",
              "    <tbody>\n",
              "    </tbody>\n",
              "</table>"
            ]
          },
          "metadata": {},
          "execution_count": 23
        }
      ]
    },
    {
      "cell_type": "code",
      "source": [
        "%%sql\n",
        "ALTER TABLE TeamMembers DROP COLUMN D_O_B;\n",
        "\n",
        "select * from TeamMembers;"
      ],
      "metadata": {
        "colab": {
          "base_uri": "https://localhost:8080/"
        },
        "id": "6KN3io5iGQKk",
        "outputId": "447a928b-a30b-4b2a-bfec-c26cd3dc8f35"
      },
      "execution_count": 25,
      "outputs": [
        {
          "output_type": "stream",
          "name": "stdout",
          "text": [
            " * sqlite://\n",
            "(sqlite3.OperationalError) near \"DROP\": syntax error\n",
            "[SQL: ALTER TABLE TeamMembers DROP COLUMN D_O_B;]\n",
            "(Background on this error at: https://sqlalche.me/e/14/e3q8)\n"
          ]
        }
      ]
    },
    {
      "cell_type": "code",
      "source": [
        "#selecting and Retrieving Data with Sql"
      ],
      "metadata": {
        "id": "L7EQ_2zvGWnJ"
      },
      "execution_count": 26,
      "outputs": []
    },
    {
      "cell_type": "code",
      "source": [
        "import csv \n",
        "import pandas as pd"
      ],
      "metadata": {
        "id": "GUuF31zrJIr1"
      },
      "execution_count": 27,
      "outputs": []
    },
    {
      "cell_type": "code",
      "source": [
        "with open('/Countries.csv','r') as Countries:\n",
        "  Interpol = pd.read_csv(Countries,encoding='utf-8')\n",
        "\n",
        "  %sql DROP TABLE IF EXISTS Interpol;\n",
        "  %sql PERSIST Interpol;"
      ],
      "metadata": {
        "colab": {
          "base_uri": "https://localhost:8080/"
        },
        "id": "PoHYODV7JdP7",
        "outputId": "eaaa66aa-f55c-4f8b-8897-f7747f6e67a3"
      },
      "execution_count": 32,
      "outputs": [
        {
          "output_type": "stream",
          "name": "stdout",
          "text": [
            " * sqlite://\n",
            "Done.\n",
            " * sqlite://\n"
          ]
        }
      ]
    },
    {
      "cell_type": "code",
      "source": [
        "with open('/WorldCup.csv','r') as WC:\n",
        "  WorldCup = pd.read_csv(WC,encoding='utf-8')\n",
        "\n",
        "  %sql DROP TABLE IF EXISTS WorldCup;\n",
        "  %sql PERSIST WorldCup;"
      ],
      "metadata": {
        "colab": {
          "base_uri": "https://localhost:8080/"
        },
        "id": "wVVGhJuoJcow",
        "outputId": "01065f49-4e7d-4695-a330-7a8b831baf26"
      },
      "execution_count": 35,
      "outputs": [
        {
          "output_type": "stream",
          "name": "stdout",
          "text": [
            " * sqlite://\n",
            "Done.\n",
            " * sqlite://\n"
          ]
        }
      ]
    },
    {
      "cell_type": "code",
      "source": [
        "%sql select * from Interpol limit 5"
      ],
      "metadata": {
        "colab": {
          "base_uri": "https://localhost:8080/",
          "height": 234
        },
        "id": "d4MlT1y7JRxh",
        "outputId": "09997bba-9f42-47fd-932f-a9895ecc23ef"
      },
      "execution_count": 36,
      "outputs": [
        {
          "output_type": "stream",
          "name": "stdout",
          "text": [
            " * sqlite://\n",
            "Done.\n"
          ]
        },
        {
          "output_type": "execute_result",
          "data": {
            "text/plain": [
              "[(0, 'Albania', 3, 3, 0, 'Europe', 'http://www.crwflags.com/fotw/images/a/al.gif'),\n",
              " (1, 'Angola', 0, 0, 1, 'Northern Africa', 'http://www.crwflags.com/fotw/images/a/ao.gif'),\n",
              " (2, 'Argentina', 2, 2, 1, 'South America', 'http://www.crwflags.com/fotw/images/a/ar.gif'),\n",
              " (3, 'Australia', 1, 1, 2, 'Oceania', 'http://www.crwflags.com/fotw/images/a/au.gif'),\n",
              " (4, 'Austria', 1, 1, 0, 'Europe', 'http://www.crwflags.com/fotw/images/a/at.gif')]"
            ],
            "text/html": [
              "<table>\n",
              "    <thead>\n",
              "        <tr>\n",
              "            <th>index</th>\n",
              "            <th>Country</th>\n",
              "            <th>National Fugitives</th>\n",
              "            <th>Wanted Fugitives</th>\n",
              "            <th>Possible Hosted Fugitives / Captured Fugitives</th>\n",
              "            <th>Region</th>\n",
              "            <th>Flag</th>\n",
              "        </tr>\n",
              "    </thead>\n",
              "    <tbody>\n",
              "        <tr>\n",
              "            <td>0</td>\n",
              "            <td>Albania</td>\n",
              "            <td>3</td>\n",
              "            <td>3</td>\n",
              "            <td>0</td>\n",
              "            <td>Europe</td>\n",
              "            <td>http://www.crwflags.com/fotw/images/a/al.gif</td>\n",
              "        </tr>\n",
              "        <tr>\n",
              "            <td>1</td>\n",
              "            <td>Angola</td>\n",
              "            <td>0</td>\n",
              "            <td>0</td>\n",
              "            <td>1</td>\n",
              "            <td>Northern Africa</td>\n",
              "            <td>http://www.crwflags.com/fotw/images/a/ao.gif</td>\n",
              "        </tr>\n",
              "        <tr>\n",
              "            <td>2</td>\n",
              "            <td>Argentina</td>\n",
              "            <td>2</td>\n",
              "            <td>2</td>\n",
              "            <td>1</td>\n",
              "            <td>South America</td>\n",
              "            <td>http://www.crwflags.com/fotw/images/a/ar.gif</td>\n",
              "        </tr>\n",
              "        <tr>\n",
              "            <td>3</td>\n",
              "            <td>Australia</td>\n",
              "            <td>1</td>\n",
              "            <td>1</td>\n",
              "            <td>2</td>\n",
              "            <td>Oceania</td>\n",
              "            <td>http://www.crwflags.com/fotw/images/a/au.gif</td>\n",
              "        </tr>\n",
              "        <tr>\n",
              "            <td>4</td>\n",
              "            <td>Austria</td>\n",
              "            <td>1</td>\n",
              "            <td>1</td>\n",
              "            <td>0</td>\n",
              "            <td>Europe</td>\n",
              "            <td>http://www.crwflags.com/fotw/images/a/at.gif</td>\n",
              "        </tr>\n",
              "    </tbody>\n",
              "</table>"
            ]
          },
          "metadata": {},
          "execution_count": 36
        }
      ]
    },
    {
      "cell_type": "code",
      "source": [
        "%sql select * from WorldCup limit 5"
      ],
      "metadata": {
        "colab": {
          "base_uri": "https://localhost:8080/",
          "height": 375
        },
        "id": "R3K0FSG-L9Fn",
        "outputId": "602e6fd0-d807-43d1-9714-02843e0fd1d4"
      },
      "execution_count": 37,
      "outputs": [
        {
          "output_type": "stream",
          "name": "stdout",
          "text": [
            " * sqlite://\n",
            "Done.\n"
          ]
        },
        {
          "output_type": "execute_result",
          "data": {
            "text/plain": [
              "[(0, 1930, '13 Jul 1930 - 15:00 ', 'Group 1', 'Pocitos', 'Montevideo ', 'France', 4, 1, 'Mexico', ' ', 4444.0, 3, 0, 'LOMBARDI Domingo (URU)', 'CRISTOPHE Henry (BEL)', 'REGO Gilberto (BRA)', 201, 1096, 'FRA', 'MEX'),\n",
              " (1, 1930, '13 Jul 1930 - 15:00 ', 'Group 4', 'Parque Central', 'Montevideo ', 'USA', 3, 0, 'Belgium', ' ', 18346.0, 2, 0, 'MACIAS Jose (ARG)', 'MATEUCCI Francisco (URU)', 'WARNKEN Alberto (CHI)', 201, 1090, 'USA', 'BEL'),\n",
              " (2, 1930, '14 Jul 1930 - 12:45 ', 'Group 2', 'Parque Central', 'Montevideo ', 'Yugoslavia', 2, 1, 'Brazil', ' ', 24059.0, 2, 0, 'TEJADA Anibal (URU)', 'VALLARINO Ricardo (URU)', 'BALWAY Thomas (FRA)', 201, 1093, 'YUG', 'BRA'),\n",
              " (3, 1930, '14 Jul 1930 - 14:50 ', 'Group 3', 'Pocitos', 'Montevideo ', 'Romania', 3, 1, 'Peru', ' ', 2549.0, 1, 0, 'WARNKEN Alberto (CHI)', 'LANGENUS Jean (BEL)', 'MATEUCCI Francisco (URU)', 201, 1098, 'ROU', 'PER'),\n",
              " (4, 1930, '15 Jul 1930 - 16:00 ', 'Group 1', 'Parque Central', 'Montevideo ', 'Argentina', 1, 0, 'France', ' ', 23409.0, 0, 0, 'REGO Gilberto (BRA)', 'SAUCEDO Ulises (BOL)', 'RADULESCU Constantin (ROU)', 201, 1085, 'ARG', 'FRA')]"
            ],
            "text/html": [
              "<table>\n",
              "    <thead>\n",
              "        <tr>\n",
              "            <th>index</th>\n",
              "            <th>Year</th>\n",
              "            <th>Datetime</th>\n",
              "            <th>Stage</th>\n",
              "            <th>Stadium</th>\n",
              "            <th>City</th>\n",
              "            <th>Home_Team_Name</th>\n",
              "            <th>Home_Team_Goals</th>\n",
              "            <th>Away_Team_Goals</th>\n",
              "            <th>Away_Team_Name</th>\n",
              "            <th>Win_conditions</th>\n",
              "            <th>Attendance</th>\n",
              "            <th>Halftime_Home_Goals</th>\n",
              "            <th>Halftime_Away_Goals</th>\n",
              "            <th>Referee</th>\n",
              "            <th>Assistant1</th>\n",
              "            <th>Assistant2</th>\n",
              "            <th>RoundID</th>\n",
              "            <th>MatchID</th>\n",
              "            <th>Home_Team_Initials</th>\n",
              "            <th>Away_Team_Initials</th>\n",
              "        </tr>\n",
              "    </thead>\n",
              "    <tbody>\n",
              "        <tr>\n",
              "            <td>0</td>\n",
              "            <td>1930</td>\n",
              "            <td>13 Jul 1930 - 15:00 </td>\n",
              "            <td>Group 1</td>\n",
              "            <td>Pocitos</td>\n",
              "            <td>Montevideo </td>\n",
              "            <td>France</td>\n",
              "            <td>4</td>\n",
              "            <td>1</td>\n",
              "            <td>Mexico</td>\n",
              "            <td> </td>\n",
              "            <td>4444.0</td>\n",
              "            <td>3</td>\n",
              "            <td>0</td>\n",
              "            <td>LOMBARDI Domingo (URU)</td>\n",
              "            <td>CRISTOPHE Henry (BEL)</td>\n",
              "            <td>REGO Gilberto (BRA)</td>\n",
              "            <td>201</td>\n",
              "            <td>1096</td>\n",
              "            <td>FRA</td>\n",
              "            <td>MEX</td>\n",
              "        </tr>\n",
              "        <tr>\n",
              "            <td>1</td>\n",
              "            <td>1930</td>\n",
              "            <td>13 Jul 1930 - 15:00 </td>\n",
              "            <td>Group 4</td>\n",
              "            <td>Parque Central</td>\n",
              "            <td>Montevideo </td>\n",
              "            <td>USA</td>\n",
              "            <td>3</td>\n",
              "            <td>0</td>\n",
              "            <td>Belgium</td>\n",
              "            <td> </td>\n",
              "            <td>18346.0</td>\n",
              "            <td>2</td>\n",
              "            <td>0</td>\n",
              "            <td>MACIAS Jose (ARG)</td>\n",
              "            <td>MATEUCCI Francisco (URU)</td>\n",
              "            <td>WARNKEN Alberto (CHI)</td>\n",
              "            <td>201</td>\n",
              "            <td>1090</td>\n",
              "            <td>USA</td>\n",
              "            <td>BEL</td>\n",
              "        </tr>\n",
              "        <tr>\n",
              "            <td>2</td>\n",
              "            <td>1930</td>\n",
              "            <td>14 Jul 1930 - 12:45 </td>\n",
              "            <td>Group 2</td>\n",
              "            <td>Parque Central</td>\n",
              "            <td>Montevideo </td>\n",
              "            <td>Yugoslavia</td>\n",
              "            <td>2</td>\n",
              "            <td>1</td>\n",
              "            <td>Brazil</td>\n",
              "            <td> </td>\n",
              "            <td>24059.0</td>\n",
              "            <td>2</td>\n",
              "            <td>0</td>\n",
              "            <td>TEJADA Anibal (URU)</td>\n",
              "            <td>VALLARINO Ricardo (URU)</td>\n",
              "            <td>BALWAY Thomas (FRA)</td>\n",
              "            <td>201</td>\n",
              "            <td>1093</td>\n",
              "            <td>YUG</td>\n",
              "            <td>BRA</td>\n",
              "        </tr>\n",
              "        <tr>\n",
              "            <td>3</td>\n",
              "            <td>1930</td>\n",
              "            <td>14 Jul 1930 - 14:50 </td>\n",
              "            <td>Group 3</td>\n",
              "            <td>Pocitos</td>\n",
              "            <td>Montevideo </td>\n",
              "            <td>Romania</td>\n",
              "            <td>3</td>\n",
              "            <td>1</td>\n",
              "            <td>Peru</td>\n",
              "            <td> </td>\n",
              "            <td>2549.0</td>\n",
              "            <td>1</td>\n",
              "            <td>0</td>\n",
              "            <td>WARNKEN Alberto (CHI)</td>\n",
              "            <td>LANGENUS Jean (BEL)</td>\n",
              "            <td>MATEUCCI Francisco (URU)</td>\n",
              "            <td>201</td>\n",
              "            <td>1098</td>\n",
              "            <td>ROU</td>\n",
              "            <td>PER</td>\n",
              "        </tr>\n",
              "        <tr>\n",
              "            <td>4</td>\n",
              "            <td>1930</td>\n",
              "            <td>15 Jul 1930 - 16:00 </td>\n",
              "            <td>Group 1</td>\n",
              "            <td>Parque Central</td>\n",
              "            <td>Montevideo </td>\n",
              "            <td>Argentina</td>\n",
              "            <td>1</td>\n",
              "            <td>0</td>\n",
              "            <td>France</td>\n",
              "            <td> </td>\n",
              "            <td>23409.0</td>\n",
              "            <td>0</td>\n",
              "            <td>0</td>\n",
              "            <td>REGO Gilberto (BRA)</td>\n",
              "            <td>SAUCEDO Ulises (BOL)</td>\n",
              "            <td>RADULESCU Constantin (ROU)</td>\n",
              "            <td>201</td>\n",
              "            <td>1085</td>\n",
              "            <td>ARG</td>\n",
              "            <td>FRA</td>\n",
              "        </tr>\n",
              "    </tbody>\n",
              "</table>"
            ]
          },
          "metadata": {},
          "execution_count": 37
        }
      ]
    },
    {
      "cell_type": "code",
      "source": [
        "%sql select Region from Interpol limit 10;"
      ],
      "metadata": {
        "colab": {
          "base_uri": "https://localhost:8080/",
          "height": 289
        },
        "id": "tyNMzA17MgGK",
        "outputId": "7a142e52-d913-4c88-ee0a-8c72868469ae"
      },
      "execution_count": 38,
      "outputs": [
        {
          "output_type": "stream",
          "name": "stdout",
          "text": [
            " * sqlite://\n",
            "Done.\n"
          ]
        },
        {
          "output_type": "execute_result",
          "data": {
            "text/plain": [
              "[('Europe',),\n",
              " ('Northern Africa',),\n",
              " ('South America',),\n",
              " ('Oceania',),\n",
              " ('Europe',),\n",
              " ('Asia',),\n",
              " ('Europe',),\n",
              " ('Europe',),\n",
              " ('Central America',),\n",
              " ('South America',)]"
            ],
            "text/html": [
              "<table>\n",
              "    <thead>\n",
              "        <tr>\n",
              "            <th>Region</th>\n",
              "        </tr>\n",
              "    </thead>\n",
              "    <tbody>\n",
              "        <tr>\n",
              "            <td>Europe</td>\n",
              "        </tr>\n",
              "        <tr>\n",
              "            <td>Northern Africa</td>\n",
              "        </tr>\n",
              "        <tr>\n",
              "            <td>South America</td>\n",
              "        </tr>\n",
              "        <tr>\n",
              "            <td>Oceania</td>\n",
              "        </tr>\n",
              "        <tr>\n",
              "            <td>Europe</td>\n",
              "        </tr>\n",
              "        <tr>\n",
              "            <td>Asia</td>\n",
              "        </tr>\n",
              "        <tr>\n",
              "            <td>Europe</td>\n",
              "        </tr>\n",
              "        <tr>\n",
              "            <td>Europe</td>\n",
              "        </tr>\n",
              "        <tr>\n",
              "            <td>Central America</td>\n",
              "        </tr>\n",
              "        <tr>\n",
              "            <td>South America</td>\n",
              "        </tr>\n",
              "    </tbody>\n",
              "</table>"
            ]
          },
          "metadata": {},
          "execution_count": 38
        }
      ]
    },
    {
      "cell_type": "code",
      "source": [
        "%sql select Country from Interpol limit 30;"
      ],
      "metadata": {
        "colab": {
          "base_uri": "https://localhost:8080/",
          "height": 716
        },
        "id": "xnPfZB0HMwQm",
        "outputId": "56e79770-93e8-4cc2-daa0-9e071a31df41"
      },
      "execution_count": 41,
      "outputs": [
        {
          "output_type": "stream",
          "name": "stdout",
          "text": [
            " * sqlite://\n",
            "Done.\n"
          ]
        },
        {
          "output_type": "execute_result",
          "data": {
            "text/plain": [
              "[('Albania',),\n",
              " ('Angola',),\n",
              " ('Argentina',),\n",
              " ('Australia',),\n",
              " ('Austria',),\n",
              " ('Bangladesh',),\n",
              " ('Belarus',),\n",
              " ('Belgium',),\n",
              " ('Belize',),\n",
              " ('Bolivia',),\n",
              " ('Botswana',),\n",
              " ('Brazil',),\n",
              " ('Cambodia',),\n",
              " ('Canada',),\n",
              " ('Cayman Islands',),\n",
              " ('Chile',),\n",
              " ('Colombia',),\n",
              " ('Congo',),\n",
              " ('Costa Rica',),\n",
              " ('Croatia',),\n",
              " ('Curaçao',),\n",
              " ('Czech Republic',),\n",
              " ('Denmark',),\n",
              " ('Dominican Republic',),\n",
              " ('Ecuador',),\n",
              " ('El Salvador',),\n",
              " ('Estonia',),\n",
              " ('Finland',),\n",
              " ('France',),\n",
              " ('Georgia, Asia',)]"
            ],
            "text/html": [
              "<table>\n",
              "    <thead>\n",
              "        <tr>\n",
              "            <th>Country</th>\n",
              "        </tr>\n",
              "    </thead>\n",
              "    <tbody>\n",
              "        <tr>\n",
              "            <td>Albania</td>\n",
              "        </tr>\n",
              "        <tr>\n",
              "            <td>Angola</td>\n",
              "        </tr>\n",
              "        <tr>\n",
              "            <td>Argentina</td>\n",
              "        </tr>\n",
              "        <tr>\n",
              "            <td>Australia</td>\n",
              "        </tr>\n",
              "        <tr>\n",
              "            <td>Austria</td>\n",
              "        </tr>\n",
              "        <tr>\n",
              "            <td>Bangladesh</td>\n",
              "        </tr>\n",
              "        <tr>\n",
              "            <td>Belarus</td>\n",
              "        </tr>\n",
              "        <tr>\n",
              "            <td>Belgium</td>\n",
              "        </tr>\n",
              "        <tr>\n",
              "            <td>Belize</td>\n",
              "        </tr>\n",
              "        <tr>\n",
              "            <td>Bolivia</td>\n",
              "        </tr>\n",
              "        <tr>\n",
              "            <td>Botswana</td>\n",
              "        </tr>\n",
              "        <tr>\n",
              "            <td>Brazil</td>\n",
              "        </tr>\n",
              "        <tr>\n",
              "            <td>Cambodia</td>\n",
              "        </tr>\n",
              "        <tr>\n",
              "            <td>Canada</td>\n",
              "        </tr>\n",
              "        <tr>\n",
              "            <td>Cayman Islands</td>\n",
              "        </tr>\n",
              "        <tr>\n",
              "            <td>Chile</td>\n",
              "        </tr>\n",
              "        <tr>\n",
              "            <td>Colombia</td>\n",
              "        </tr>\n",
              "        <tr>\n",
              "            <td>Congo</td>\n",
              "        </tr>\n",
              "        <tr>\n",
              "            <td>Costa Rica</td>\n",
              "        </tr>\n",
              "        <tr>\n",
              "            <td>Croatia</td>\n",
              "        </tr>\n",
              "        <tr>\n",
              "            <td>Curaçao</td>\n",
              "        </tr>\n",
              "        <tr>\n",
              "            <td>Czech Republic</td>\n",
              "        </tr>\n",
              "        <tr>\n",
              "            <td>Denmark</td>\n",
              "        </tr>\n",
              "        <tr>\n",
              "            <td>Dominican Republic</td>\n",
              "        </tr>\n",
              "        <tr>\n",
              "            <td>Ecuador</td>\n",
              "        </tr>\n",
              "        <tr>\n",
              "            <td>El Salvador</td>\n",
              "        </tr>\n",
              "        <tr>\n",
              "            <td>Estonia</td>\n",
              "        </tr>\n",
              "        <tr>\n",
              "            <td>Finland</td>\n",
              "        </tr>\n",
              "        <tr>\n",
              "            <td>France</td>\n",
              "        </tr>\n",
              "        <tr>\n",
              "            <td>Georgia, Asia</td>\n",
              "        </tr>\n",
              "    </tbody>\n",
              "</table>"
            ]
          },
          "metadata": {},
          "execution_count": 41
        }
      ]
    },
    {
      "cell_type": "code",
      "source": [
        "%sql select Region from Interpol WHERE 'National Fugitives' = 0"
      ],
      "metadata": {
        "colab": {
          "base_uri": "https://localhost:8080/",
          "height": 75
        },
        "id": "dH-ZkN4mQJcF",
        "outputId": "7a253000-4a20-4067-f75d-468ea24993f1"
      },
      "execution_count": 42,
      "outputs": [
        {
          "output_type": "stream",
          "name": "stdout",
          "text": [
            " * sqlite://\n",
            "Done.\n"
          ]
        },
        {
          "output_type": "execute_result",
          "data": {
            "text/plain": [
              "[]"
            ],
            "text/html": [
              "<table>\n",
              "    <thead>\n",
              "        <tr>\n",
              "            <th>Region</th>\n",
              "        </tr>\n",
              "    </thead>\n",
              "    <tbody>\n",
              "    </tbody>\n",
              "</table>"
            ]
          },
          "metadata": {},
          "execution_count": 42
        }
      ]
    },
    {
      "cell_type": "code",
      "source": [
        "%sql select Country from Interpol WHERE 'National Fugitives' = 1 AND Region = 'Europe'"
      ],
      "metadata": {
        "colab": {
          "base_uri": "https://localhost:8080/",
          "height": 75
        },
        "id": "u9i0T2KMQkxy",
        "outputId": "e7cfe8a3-c1b1-489f-954a-209bce0b5aac"
      },
      "execution_count": 43,
      "outputs": [
        {
          "output_type": "stream",
          "name": "stdout",
          "text": [
            " * sqlite://\n",
            "Done.\n"
          ]
        },
        {
          "output_type": "execute_result",
          "data": {
            "text/plain": [
              "[]"
            ],
            "text/html": [
              "<table>\n",
              "    <thead>\n",
              "        <tr>\n",
              "            <th>Country</th>\n",
              "        </tr>\n",
              "    </thead>\n",
              "    <tbody>\n",
              "    </tbody>\n",
              "</table>"
            ]
          },
          "metadata": {},
          "execution_count": 43
        }
      ]
    },
    {
      "cell_type": "code",
      "source": [
        "#q1"
      ],
      "metadata": {
        "id": "_Ge7HCFQROkf"
      },
      "execution_count": 44,
      "outputs": []
    },
    {
      "cell_type": "code",
      "source": [
        "%sql select Region from Interpol WHERE 'Possible Hosted Fugitives / Captured Fugitives' "
      ],
      "metadata": {
        "colab": {
          "base_uri": "https://localhost:8080/",
          "height": 75
        },
        "id": "SyOVIfoaROH4",
        "outputId": "1ff0f139-3769-40c5-be1e-13e2ea2ac69b"
      },
      "execution_count": 58,
      "outputs": [
        {
          "output_type": "stream",
          "name": "stdout",
          "text": [
            " * sqlite://\n",
            "Done.\n"
          ]
        },
        {
          "output_type": "execute_result",
          "data": {
            "text/plain": [
              "[]"
            ],
            "text/html": [
              "<table>\n",
              "    <thead>\n",
              "        <tr>\n",
              "            <th>Region</th>\n",
              "        </tr>\n",
              "    </thead>\n",
              "    <tbody>\n",
              "    </tbody>\n",
              "</table>"
            ]
          },
          "metadata": {},
          "execution_count": 58
        }
      ]
    },
    {
      "cell_type": "code",
      "source": [
        "%sql select Country from Interpol WHERE 'National Fugitives' = 0 AND 'Wanted Fugitives' = 0"
      ],
      "metadata": {
        "colab": {
          "base_uri": "https://localhost:8080/",
          "height": 75
        },
        "id": "_ssPFSndRN5n",
        "outputId": "e6968b0c-7fc5-4f4f-9309-4650bf18d1cd"
      },
      "execution_count": 46,
      "outputs": [
        {
          "output_type": "stream",
          "name": "stdout",
          "text": [
            " * sqlite://\n",
            "Done.\n"
          ]
        },
        {
          "output_type": "execute_result",
          "data": {
            "text/plain": [
              "[]"
            ],
            "text/html": [
              "<table>\n",
              "    <thead>\n",
              "        <tr>\n",
              "            <th>Country</th>\n",
              "        </tr>\n",
              "    </thead>\n",
              "    <tbody>\n",
              "    </tbody>\n",
              "</table>"
            ]
          },
          "metadata": {},
          "execution_count": 46
        }
      ]
    },
    {
      "cell_type": "code",
      "source": [
        "%sql select Country from Interpol WHERE 'National Fugitives' = 3 AND Region = 'Europe'"
      ],
      "metadata": {
        "colab": {
          "base_uri": "https://localhost:8080/",
          "height": 75
        },
        "id": "YV-HGhJQRNKo",
        "outputId": "e19c9fbb-6136-425b-9941-421e2396f0b7"
      },
      "execution_count": 53,
      "outputs": [
        {
          "output_type": "stream",
          "name": "stdout",
          "text": [
            " * sqlite://\n",
            "Done.\n"
          ]
        },
        {
          "output_type": "execute_result",
          "data": {
            "text/plain": [
              "[]"
            ],
            "text/html": [
              "<table>\n",
              "    <thead>\n",
              "        <tr>\n",
              "            <th>Country</th>\n",
              "        </tr>\n",
              "    </thead>\n",
              "    <tbody>\n",
              "    </tbody>\n",
              "</table>"
            ]
          },
          "metadata": {},
          "execution_count": 53
        }
      ]
    }
  ]
}